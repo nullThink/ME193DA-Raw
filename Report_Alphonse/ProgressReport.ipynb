{
 "cells": [
  {
   "cell_type": "markdown",
   "metadata": {},
   "source": [
    "# Progress Report"
   ]
  },
  {
   "cell_type": "markdown",
   "metadata": {},
   "source": [
    "### Motivation"
   ]
  },
  {
   "cell_type": "markdown",
   "metadata": {},
   "source": [
    "The issue that I'm currently tackling is the classification of games as a win or loss in League of Legends, using pre-game and post-game factors. It's an interesting issue in that given a certain set of factors, give the likely outcome of the game. Also, a greater understanding or apprecation to the factors that govern a win for a game can improve potential performance of newer and veteran players. One more importance in attempting to find a way to predict a game's outcome is in determining the fairness of a game. \n",
    "\n",
    "$$$$\n",
    "\n",
    "In the past, predicting game outcomes before and after games was done using gradient boosted trees in conjunction with logistic regression among players in the gold skill division, achieving a 95% success rate (Lin, 2016). Other attempts at predicting game outcomes was done with neural networks, finding about an 84.4% accuracy rate with one of their architectures (Hall, 2017).\n",
    "\n",
    "$$$$\n",
    "\n",
    "While attempting to classify games as wins or losses based on factors, I also want to look at how the importance of each factor changes over skill divisions. My main hypothesis is that the importance of each individual factor does not change over the course of a skill division, and that the amount of gold earned by a team will remain of high importance. My secondary hypothesis is that the prediction of game success rates before they have been played will have over a 50% success rate."
   ]
  },
  {
   "cell_type": "markdown",
   "metadata": {},
   "source": [
    "### Method"
   ]
  },
  {
   "cell_type": "markdown",
   "metadata": {},
   "source": [
    "I've decided to try using Random Forests in order to determine the importance of different predictors, as well as to predict the outcome of a game."
   ]
  },
  {
   "cell_type": "markdown",
   "metadata": {},
   "source": [
    "### Preliminary Experiments"
   ]
  },
  {
   "cell_type": "markdown",
   "metadata": {},
   "source": [
    "I've performed a Random Forest with the data of the Challenger skill division, where the most skilled reside. Using Random Forests, I was able to get about a 89 percent precision rate for losses, and an 83 percent precision rate for wins. I also computed the AOC score for this experiment, and got a score of 0.94, meaning that this method is much better than random guessing."
   ]
  },
  {
   "cell_type": "markdown",
   "metadata": {},
   "source": [
    "### Next Steps"
   ]
  },
  {
   "cell_type": "markdown",
   "metadata": {},
   "source": [
    "These results are based on only data at the highest skill group in the game. Now, I need to do the same procedure on the other skill groups in order to help confirm or deny my hypothesis. I also need to perform the procedure with pre-game information."
   ]
  },
  {
   "cell_type": "markdown",
   "metadata": {},
   "source": [
    "### References"
   ]
  },
  {
   "cell_type": "markdown",
   "metadata": {},
   "source": [
    "http://cs229.stanford.edu/proj2016/report/Lin-LeagueOfLegendsMatchOutcomePrediction-report.pdf (Lin, 2016)\n",
    "$$$$\n",
    "https://github.com/minihat/LoL-Match-Prediction/blob/master/FINAL%20REPORT.pdf (Hall, 2017)"
   ]
  }
 ],
 "metadata": {
  "interpreter": {
   "hash": "10473faa659e50064505c9e5ea5d6bbb3512c59cb216fd0d7c6754850a7966e6"
  },
  "kernelspec": {
   "display_name": "Python 3.10.0 64-bit",
   "language": "python",
   "name": "python3"
  },
  "language_info": {
   "codemirror_mode": {
    "name": "ipython",
    "version": 3
   },
   "file_extension": ".py",
   "mimetype": "text/x-python",
   "name": "python",
   "nbconvert_exporter": "python",
   "pygments_lexer": "ipython3",
   "version": "3.10.0"
  },
  "orig_nbformat": 4
 },
 "nbformat": 4,
 "nbformat_minor": 2
}
